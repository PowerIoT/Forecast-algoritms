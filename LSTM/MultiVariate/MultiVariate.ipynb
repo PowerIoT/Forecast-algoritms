{
 "cells": [
  {
   "cell_type": "code",
   "execution_count": 978,
   "metadata": {
    "collapsed": true
   },
   "outputs": [],
   "source": [
    "from math import sqrt\n",
    "from numpy import concatenate\n",
    "import numpy as np\n",
    "from matplotlib import pyplot\n",
    "from pandas import read_csv\n",
    "from pandas import DataFrame\n",
    "from pandas import concat\n",
    "from sklearn.preprocessing import MinMaxScaler\n",
    "from sklearn.preprocessing import LabelEncoder\n",
    "from sklearn.metrics import mean_squared_error\n",
    "from keras.models import Sequential\n",
    "from keras.layers import Dense\n",
    "from keras.layers import LSTM\n"
   ]
  },
  {
   "cell_type": "code",
   "execution_count": 979,
   "metadata": {},
   "outputs": [],
   "source": [
    "# convert series to supervised learning\n",
    "def series_to_supervised(data, n_in, n_out, dropnan=True):\n",
    "\tn_vars = 1 if type(data) is list else data.shape[1]\n",
    "\tdf = DataFrame(data)\n",
    "\tcols, names = list(), list()\n",
    "\t# input sequence (t-n, ... t-1)\n",
    "\tfor i in range(n_in, 0, -1):\n",
    "\t\tcols.append(df.shift(i))\n",
    "\t\tnames += [('var%d(t-%d)' % (j+1, i)) for j in range(n_vars)]\n",
    "\n",
    "    # forecast sequence (t, t+1, ... t+n)\n",
    "\tcols.append(df.shift(-n_out))\n",
    "\tif n_out == 0:\n",
    "\t\tnames += [('var%d(t)' % (j+1)) for j in range(n_vars)]\n",
    "\telse:\n",
    "\t\tnames += [('var%d(t+%d)' % (j+1, n_out)) for j in range(n_vars)]\n",
    "        \n",
    "\t# put it all together\n",
    "\tagg = concat(cols, axis=1)\n",
    "\tagg.columns = names\n",
    "    \n",
    "\t# drop rows with NaN values\n",
    "\tif dropnan:\n",
    "\t\tagg.dropna(inplace=True)\n",
    "\treturn agg"
   ]
  },
  {
   "cell_type": "code",
   "execution_count": 980,
   "metadata": {
    "collapsed": true
   },
   "outputs": [],
   "source": [
    "#load daraset\n",
    "dataset= read_csv('powerandweather.csv', header=0, index_col='time')\n",
    "\n"
   ]
  },
  {
   "cell_type": "code",
   "execution_count": 981,
   "metadata": {
    "collapsed": true
   },
   "outputs": [],
   "source": [
    "#dataset.tail(20)"
   ]
  },
  {
   "cell_type": "code",
   "execution_count": 982,
   "metadata": {
    "collapsed": true
   },
   "outputs": [],
   "source": [
    "dataset.replace([np.inf ,-np.inf],np.nan)\n",
    "dataset.fillna(method='ffill')\n",
    "values=dataset.values"
   ]
  },
  {
   "cell_type": "code",
   "execution_count": 983,
   "metadata": {
    "collapsed": true
   },
   "outputs": [],
   "source": [
    "# normalize features\n",
    "data=dataset\n",
    "data['cloudCover'] = (data['cloudCover']- data['cloudCover'].min())/(data['cloudCover'].max()-data['cloudCover'].min())\n",
    "data['dewPoint'] = (data['dewPoint']-data['dewPoint'].min())/(data['dewPoint'].max()-data['dewPoint'].min())\n",
    "data['humidity'] = (data['humidity']-data['humidity'].min())/(data['humidity'].max()-data['humidity'].min())\n",
    "data['temperature'] = (data['temperature']-data['temperature'].min())/(data['temperature'].max()-data['temperature'].min())\n",
    "data['pressure'] = (data['pressure']-data['pressure'].min())/(data['pressure'].max()-data['pressure'].min())\n",
    "data['windBearing'] = (data['windBearing']-data['windBearing'].min())/(data['windBearing'].max()-data['windBearing'].min())\n",
    "data['windSpeed'] = (data['windSpeed']-data['windSpeed'].min())/(data['windSpeed'].max()-data['windSpeed'].min())\n",
    "#data['power'] = (data['power']-data['power'].min())/(data['power'].max()-data['power'].min())\n",
    "data['power']=data['power']/50000\n",
    "\n",
    "scaled=data\n"
   ]
  },
  {
   "cell_type": "code",
   "execution_count": 984,
   "metadata": {
    "collapsed": true
   },
   "outputs": [],
   "source": [
    "# frame as supervised learning\n",
    "prediction_step=1\n",
    "windows_size=10\n",
    "reframed = series_to_supervised(scaled, windows_size, prediction_step)"
   ]
  },
  {
   "cell_type": "code",
   "execution_count": 985,
   "metadata": {},
   "outputs": [],
   "source": [
    "#reframed.head(10)"
   ]
  },
  {
   "cell_type": "code",
   "execution_count": null,
   "metadata": {
    "collapsed": true
   },
   "outputs": [],
   "source": []
  },
  {
   "cell_type": "code",
   "execution_count": 986,
   "metadata": {
    "collapsed": true
   },
   "outputs": [],
   "source": [
    "# drop columns we don't want to predict\n",
    "reframed.drop(reframed.columns[[-2,-3,-4,-5,-6,-7,-8]], axis=1, inplace=True)"
   ]
  },
  {
   "cell_type": "code",
   "execution_count": 987,
   "metadata": {
    "collapsed": true
   },
   "outputs": [],
   "source": [
    "#reframed.head(20)"
   ]
  },
  {
   "cell_type": "code",
   "execution_count": 988,
   "metadata": {
    "collapsed": true
   },
   "outputs": [],
   "source": [
    "#reframed.columns\n"
   ]
  },
  {
   "cell_type": "code",
   "execution_count": 989,
   "metadata": {
    "collapsed": true
   },
   "outputs": [],
   "source": [
    "len_data=len(reframed);\n",
    "train_len= int(len_data*0.98);\n",
    "\n",
    "# split into train and test sets\n",
    "values = reframed.values\n",
    "train = values[:train_len, :]\n",
    "test = values[train_len:, :]\n",
    "\n",
    "# split into input and outputs\n",
    "train_X, train_y = train[:, :-1], train[:, -1]\n",
    "test_X, test_y = test[:, :-1], test[:, -1]\n",
    "\n",
    "# reshape input to be 3D [samples, timesteps, features]\n",
    "train_X = train_X.reshape((train_X.shape[0], 1, train_X.shape[1]))\n",
    "test_X = test_X.reshape((test_X.shape[0], 1, test_X.shape[1]))\n",
    "#print(train_X.shape, train_y.shape, test_X.shape, test_y.shape)\n",
    "\n",
    "\n"
   ]
  },
  {
   "cell_type": "code",
   "execution_count": 990,
   "metadata": {},
   "outputs": [
    {
     "name": "stdout",
     "output_type": "stream",
     "text": [
      "Train on 17111 samples, validate on 350 samples\n",
      "Epoch 1/50\n",
      " - 4s - loss: 0.0629 - acc: 0.4456 - val_loss: 0.0544 - val_acc: 0.3457\n",
      "Epoch 2/50\n",
      " - 0s - loss: 0.0445 - acc: 0.4457 - val_loss: 0.0589 - val_acc: 0.3457\n",
      "Epoch 3/50\n",
      " - 0s - loss: 0.0406 - acc: 0.4457 - val_loss: 0.0482 - val_acc: 0.3457\n",
      "Epoch 4/50\n",
      " - 0s - loss: 0.0385 - acc: 0.4457 - val_loss: 0.0554 - val_acc: 0.3457\n",
      "Epoch 5/50\n",
      " - 0s - loss: 0.0368 - acc: 0.4457 - val_loss: 0.0496 - val_acc: 0.3457\n",
      "Epoch 6/50\n",
      " - 0s - loss: 0.0357 - acc: 0.4457 - val_loss: 0.0524 - val_acc: 0.3457\n",
      "Epoch 7/50\n",
      " - 0s - loss: 0.0347 - acc: 0.4457 - val_loss: 0.0481 - val_acc: 0.3457\n",
      "Epoch 8/50\n",
      " - 0s - loss: 0.0339 - acc: 0.4457 - val_loss: 0.0549 - val_acc: 0.3457\n",
      "Epoch 9/50\n",
      " - 0s - loss: 0.0333 - acc: 0.4457 - val_loss: 0.0472 - val_acc: 0.3457\n",
      "Epoch 10/50\n",
      " - 0s - loss: 0.0325 - acc: 0.4457 - val_loss: 0.0450 - val_acc: 0.3457\n",
      "Epoch 11/50\n",
      " - 0s - loss: 0.0324 - acc: 0.4457 - val_loss: 0.0447 - val_acc: 0.3457\n",
      "Epoch 12/50\n",
      " - 0s - loss: 0.0316 - acc: 0.4457 - val_loss: 0.0432 - val_acc: 0.3457\n",
      "Epoch 13/50\n",
      " - 0s - loss: 0.0316 - acc: 0.4457 - val_loss: 0.0445 - val_acc: 0.3457\n",
      "Epoch 14/50\n",
      " - 0s - loss: 0.0312 - acc: 0.4457 - val_loss: 0.0429 - val_acc: 0.3457\n",
      "Epoch 15/50\n",
      " - 0s - loss: 0.0308 - acc: 0.4457 - val_loss: 0.0443 - val_acc: 0.3457\n",
      "Epoch 16/50\n",
      " - 0s - loss: 0.0306 - acc: 0.4457 - val_loss: 0.0420 - val_acc: 0.3457\n",
      "Epoch 17/50\n",
      " - 0s - loss: 0.0303 - acc: 0.4457 - val_loss: 0.0429 - val_acc: 0.3457\n",
      "Epoch 18/50\n",
      " - 0s - loss: 0.0301 - acc: 0.4457 - val_loss: 0.0434 - val_acc: 0.3457\n",
      "Epoch 19/50\n",
      " - 0s - loss: 0.0300 - acc: 0.4457 - val_loss: 0.0403 - val_acc: 0.3457\n",
      "Epoch 20/50\n",
      " - 0s - loss: 0.0297 - acc: 0.4457 - val_loss: 0.0411 - val_acc: 0.3457\n",
      "Epoch 21/50\n",
      " - 0s - loss: 0.0295 - acc: 0.4457 - val_loss: 0.0427 - val_acc: 0.3457\n",
      "Epoch 22/50\n",
      " - 0s - loss: 0.0294 - acc: 0.4457 - val_loss: 0.0428 - val_acc: 0.3457\n",
      "Epoch 23/50\n",
      " - 0s - loss: 0.0293 - acc: 0.4457 - val_loss: 0.0451 - val_acc: 0.3457\n",
      "Epoch 24/50\n",
      " - 0s - loss: 0.0290 - acc: 0.4457 - val_loss: 0.0447 - val_acc: 0.3457\n",
      "Epoch 25/50\n",
      " - 0s - loss: 0.0289 - acc: 0.4457 - val_loss: 0.0427 - val_acc: 0.3457\n",
      "Epoch 26/50\n",
      " - 0s - loss: 0.0289 - acc: 0.4457 - val_loss: 0.0403 - val_acc: 0.3457\n",
      "Epoch 27/50\n",
      " - 0s - loss: 0.0287 - acc: 0.4457 - val_loss: 0.0406 - val_acc: 0.3457\n",
      "Epoch 28/50\n",
      " - 0s - loss: 0.0286 - acc: 0.4457 - val_loss: 0.0406 - val_acc: 0.3457\n",
      "Epoch 29/50\n",
      " - 0s - loss: 0.0285 - acc: 0.4457 - val_loss: 0.0445 - val_acc: 0.3457\n",
      "Epoch 30/50\n",
      " - 0s - loss: 0.0284 - acc: 0.4457 - val_loss: 0.0434 - val_acc: 0.3457\n",
      "Epoch 31/50\n",
      " - 0s - loss: 0.0283 - acc: 0.4457 - val_loss: 0.0400 - val_acc: 0.3457\n",
      "Epoch 32/50\n",
      " - 0s - loss: 0.0282 - acc: 0.4457 - val_loss: 0.0416 - val_acc: 0.3457\n",
      "Epoch 33/50\n",
      " - 0s - loss: 0.0281 - acc: 0.4457 - val_loss: 0.0383 - val_acc: 0.3457\n",
      "Epoch 34/50\n",
      " - 0s - loss: 0.0280 - acc: 0.4457 - val_loss: 0.0404 - val_acc: 0.3457\n",
      "Epoch 35/50\n",
      " - 0s - loss: 0.0279 - acc: 0.4457 - val_loss: 0.0398 - val_acc: 0.3457\n",
      "Epoch 36/50\n",
      " - 0s - loss: 0.0278 - acc: 0.4457 - val_loss: 0.0403 - val_acc: 0.3457\n",
      "Epoch 37/50\n",
      " - 0s - loss: 0.0278 - acc: 0.4457 - val_loss: 0.0397 - val_acc: 0.3457\n",
      "Epoch 38/50\n",
      " - 0s - loss: 0.0276 - acc: 0.4457 - val_loss: 0.0407 - val_acc: 0.3457\n",
      "Epoch 39/50\n",
      " - 0s - loss: 0.0276 - acc: 0.4457 - val_loss: 0.0408 - val_acc: 0.3457\n",
      "Epoch 40/50\n",
      " - 0s - loss: 0.0276 - acc: 0.4457 - val_loss: 0.0398 - val_acc: 0.3457\n",
      "Epoch 41/50\n",
      " - 0s - loss: 0.0275 - acc: 0.4457 - val_loss: 0.0397 - val_acc: 0.3457\n",
      "Epoch 42/50\n",
      " - 0s - loss: 0.0275 - acc: 0.4457 - val_loss: 0.0397 - val_acc: 0.3457\n",
      "Epoch 43/50\n",
      " - 0s - loss: 0.0274 - acc: 0.4457 - val_loss: 0.0402 - val_acc: 0.3457\n",
      "Epoch 44/50\n",
      " - 0s - loss: 0.0274 - acc: 0.4457 - val_loss: 0.0468 - val_acc: 0.3457\n",
      "Epoch 45/50\n",
      " - 0s - loss: 0.0273 - acc: 0.4457 - val_loss: 0.0408 - val_acc: 0.3457\n",
      "Epoch 46/50\n",
      " - 0s - loss: 0.0272 - acc: 0.4457 - val_loss: 0.0429 - val_acc: 0.3457\n",
      "Epoch 47/50\n",
      " - 0s - loss: 0.0272 - acc: 0.4457 - val_loss: 0.0397 - val_acc: 0.3457\n",
      "Epoch 48/50\n",
      " - 0s - loss: 0.0271 - acc: 0.4457 - val_loss: 0.0390 - val_acc: 0.3457\n",
      "Epoch 49/50\n",
      " - 0s - loss: 0.0271 - acc: 0.4457 - val_loss: 0.0389 - val_acc: 0.3457\n",
      "Epoch 50/50\n",
      " - 0s - loss: 0.0270 - acc: 0.4457 - val_loss: 0.0408 - val_acc: 0.3457\n"
     ]
    },
    {
     "data": {
      "image/png": "[encoded data removed]",
      "text/plain": [
       "<matplotlib.figure.Figure at 0x1dc15defc50>"
      ]
     },
     "metadata": {
      "needs_background": "light"
     },
     "output_type": "display_data"
    }
   ],
   "source": [
    "# design network\n",
    "model = Sequential()\n",
    "model.add(LSTM(20, input_shape=(train_X.shape[1], train_X.shape[2])))\n",
    "model.add(Dense(1))\n",
    "model.compile(loss='mae', metrics=['accuracy'],optimizer='rmsprop')\n",
    "\n",
    "# fit network\n",
    "history = model.fit(train_X, train_y, epochs=50, batch_size=72, validation_data=(test_X, test_y), verbose=2, shuffle=True)\n",
    "\n",
    "# plot history\n",
    "pyplot.plot(history.history['loss'], label='train')\n",
    "pyplot.plot(history.history['val_loss'], label='test')\n",
    "pyplot.legend()\n",
    "pyplot.show()\n"
   ]
  },
  {
   "cell_type": "code",
   "execution_count": 991,
   "metadata": {
    "collapsed": true
   },
   "outputs": [],
   "source": [
    "#yhat = model.predict(test_X)"
   ]
  },
  {
   "cell_type": "code",
   "execution_count": 992,
   "metadata": {
    "collapsed": true
   },
   "outputs": [],
   "source": [
    "#yhat.shape"
   ]
  },
  {
   "cell_type": "code",
   "execution_count": 993,
   "metadata": {},
   "outputs": [
    {
     "name": "stdout",
     "output_type": "stream",
     "text": [
      "Test RMSE: 0.098\n"
     ]
    }
   ],
   "source": [
    "# make a prediction\n",
    "yhat = model.predict(test_X)\n",
    "test_X = test_X.reshape((test_X.shape[0], test_X.shape[2]))\n",
    "\n",
    "test_y = test_y.reshape((len(test_y), 1))\n",
    "\n",
    "# calculate RMSE\n",
    "rmse = sqrt(mean_squared_error(yhat[0:len(yhat)-(prediction_step+1),0],test_y[prediction_step:len(test_y)-1,0]))\n",
    "print('Test RMSE: %.3f' % rmse)"
   ]
  },
  {
   "cell_type": "code",
   "execution_count": 994,
   "metadata": {},
   "outputs": [],
   "source": [
    "import time\n",
    "predictSTR= 'prediction for  '+ str(prediction_step*5) +' minute'"
   ]
  },
  {
   "cell_type": "code",
   "execution_count": 995,
   "metadata": {},
   "outputs": [
    {
     "data": {
      "image/png": "[encoded data removed]",
      "text/plain": [
       "<matplotlib.figure.Figure at 0x1dc0bf22e48>"
      ]
     },
     "metadata": {
      "needs_background": "light"
     },
     "output_type": "display_data"
    },
    {
     "name": "stdout",
     "output_type": "stream",
     "text": [
      "Test RMSE: 0.098\n"
     ]
    }
   ],
   "source": [
    "pyplot.plot(yhat[50:len(yhat)-(prediction_step+1)+50,0]*50000, label= predictSTR)\n",
    "pyplot.plot(test_y[prediction_step*2+50:len(test_y)+50,0]*50000, label= 'Real Value')\n",
    "pyplot.legend()\n",
    "pyplot.xlabel('Sample of Data resulation 5 minute')\n",
    "pyplot.ylabel('Power(Watts)')\n",
    "pyplot.title('(15 March 2018) Prediction and Real Power Supplied by Solar Panel')\n",
    "pyplot.grid(True)\n",
    "pyplot.show()\n",
    "print('Test RMSE: %.3f' % rmse)\n",
    "\n"
   ]
  },
  {
   "cell_type": "code",
   "execution_count": 996,
   "metadata": {
    "collapsed": true
   },
   "outputs": [],
   "source": [
    "import pandas as pd\n",
    "df= pd.DataFrame(yhat)\n",
    "df.to_csv(\"yhat.csv\",index=False)\n",
    "df= pd.DataFrame(test_y)\n",
    "df.to_csv(\"test.csv\",index=False)\n"
   ]
  },
  {
   "cell_type": "code",
   "execution_count": 997,
   "metadata": {
    "collapsed": true
   },
   "outputs": [],
   "source": [
    "df= pd.DataFrame(test_X[:,0])\n",
    "df.to_csv('cloudcover.csv', index=False)"
   ]
  },
  {
   "cell_type": "code",
   "execution_count": 998,
   "metadata": {},
   "outputs": [
    {
     "data": {
      "text/plain": [
       "(350, 80)"
      ]
     },
     "execution_count": 998,
     "metadata": {},
     "output_type": "execute_result"
    }
   ],
   "source": [
    "test_X.shape"
   ]
  },
  {
   "cell_type": "code",
   "execution_count": 999,
   "metadata": {},
   "outputs": [
    {
     "data": {
      "text/plain": [
       "350"
      ]
     },
     "execution_count": 999,
     "metadata": {},
     "output_type": "execute_result"
    }
   ],
   "source": [
    "len(yhat)"
   ]
  },
  {
   "cell_type": "code",
   "execution_count": 1000,
   "metadata": {},
   "outputs": [
    {
     "data": {
      "text/plain": [
       "350"
      ]
     },
     "execution_count": 1000,
     "metadata": {},
     "output_type": "execute_result"
    }
   ],
   "source": [
    "len(test_y)"
   ]
  },
  {
   "cell_type": "code",
   "execution_count": null,
   "metadata": {
    "collapsed": true
   },
   "outputs": [],
   "source": []
  }
 ],
 "metadata": {
  "kernelspec": {
   "display_name": "Python 3",
   "language": "python",
   "name": "python3"
  },
  "language_info": {
   "codemirror_mode": {
    "name": "ipython",
    "version": 3
   },
   "file_extension": ".py",
   "mimetype": "text/x-python",
   "name": "python",
   "nbconvert_exporter": "python",
   "pygments_lexer": "ipython3",
   "version": "3.6.3"
  }
 },
 "nbformat": 4,
 "nbformat_minor": 2
}
