{
 "cells": [
  {
   "cell_type": "code",
   "execution_count": 110,
   "metadata": {
    "collapsed": true
   },
   "outputs": [],
   "source": [
    "from math import sqrt\n",
    "from numpy import concatenate\n",
    "import numpy as np\n",
    "from matplotlib import pyplot\n",
    "from pandas import read_csv\n",
    "from pandas import DataFrame\n",
    "from pandas import concat\n",
    "from sklearn.preprocessing import MinMaxScaler\n",
    "from sklearn.preprocessing import LabelEncoder\n",
    "from sklearn.metrics import mean_squared_error\n",
    "from keras.models import Sequential\n",
    "from keras.layers import Dense\n",
    "from keras.layers import LSTM\n"
   ]
  },
  {
   "cell_type": "code",
   "execution_count": 111,
   "metadata": {
    "collapsed": true
   },
   "outputs": [],
   "source": [
    "# convert series to supervised learning\n",
    "def series_to_supervised(data, n_in, n_out, dropnan=True):\n",
    "\tn_vars = 1 if type(data) is list else data.shape[1]\n",
    "\tdf = DataFrame(data)\n",
    "\tcols, names = list(), list()\n",
    "\t# input sequence (t-n, ... t-1)\n",
    "\tfor i in range(n_in, 0, -1):\n",
    "\t\tcols.append(df.shift(i))\n",
    "\t\tnames += [('var%d(t-%d)' % (j+1, i)) for j in range(n_vars)]\n",
    "\n",
    "    # forecast sequence (t, t+1, ... t+n)\n",
    "\tcols.append(df.shift(-n_out))\n",
    "\tif n_out == 0:\n",
    "\t\tnames += [('var%d(t)' % (j+1)) for j in range(n_vars)]\n",
    "\telse:\n",
    "\t\tnames += [('var%d(t+%d)' % (j+1, n_out)) for j in range(n_vars)]\n",
    "        \n",
    "\t# put it all together\n",
    "\tagg = concat(cols, axis=1)\n",
    "\tagg.columns = names\n",
    "    \n",
    "\t# drop rows with NaN values\n",
    "\tif dropnan:\n",
    "\t\tagg.dropna(inplace=True)\n",
    "\treturn agg"
   ]
  },
  {
   "cell_type": "code",
   "execution_count": 112,
   "metadata": {
    "collapsed": true
   },
   "outputs": [],
   "source": [
    "#load daraset\n",
    "path = r'C:\\Users\\nailt\\Desktop\\PowerIoT\\Datasets\\powerandweather.csv'\n",
    "pathEnes=r'C:\\Users\\enes_\\Desktop\\Datasets\\powerandweather.csv'\n",
    "dataset= read_csv(pathEnes, header=0, index_col='time')\n",
    "\n"
   ]
  },
  {
   "cell_type": "code",
   "execution_count": 113,
   "metadata": {
    "collapsed": true
   },
   "outputs": [],
   "source": [
    "#dataset.tail(20)"
   ]
  },
  {
   "cell_type": "code",
   "execution_count": 114,
   "metadata": {
    "collapsed": true
   },
   "outputs": [],
   "source": [
    "dataset.replace([np.inf ,-np.inf],np.nan)\n",
    "dataset.fillna(method='ffill')\n",
    "values=dataset.values"
   ]
  },
  {
   "cell_type": "code",
   "execution_count": 115,
   "metadata": {
    "collapsed": true
   },
   "outputs": [],
   "source": [
    "# normalize features\n",
    "data=dataset\n",
    "data['cloudCover'] = (data['cloudCover']- data['cloudCover'].min())/(data['cloudCover'].max()-data['cloudCover'].min())\n",
    "data['dewPoint'] = (data['dewPoint']-data['dewPoint'].min())/(data['dewPoint'].max()-data['dewPoint'].min())\n",
    "data['humidity'] = (data['humidity']-data['humidity'].min())/(data['humidity'].max()-data['humidity'].min())\n",
    "data['temperature'] = (data['temperature']-data['temperature'].min())/(data['temperature'].max()-data['temperature'].min())\n",
    "data['pressure'] = (data['pressure']-data['pressure'].min())/(data['pressure'].max()-data['pressure'].min())\n",
    "data['windBearing'] = (data['windBearing']-data['windBearing'].min())/(data['windBearing'].max()-data['windBearing'].min())\n",
    "data['windSpeed'] = (data['windSpeed']-data['windSpeed'].min())/(data['windSpeed'].max()-data['windSpeed'].min())\n",
    "#data['power'] = (data['power']-data['power'].min())/(data['power'].max()-data['power'].min())\n",
    "data['power']=data['power']/50000\n",
    "\n",
    "scaled=data\n"
   ]
  },
  {
   "cell_type": "code",
   "execution_count": 116,
   "metadata": {
    "collapsed": true
   },
   "outputs": [],
   "source": [
    "# frame as supervised learning\n",
    "prediction_step=15\n",
    "windows_size=10\n",
    "reframed = series_to_supervised(scaled, windows_size, prediction_step)"
   ]
  },
  {
   "cell_type": "code",
   "execution_count": 117,
   "metadata": {
    "collapsed": true
   },
   "outputs": [],
   "source": [
    "#reframed.head(10)"
   ]
  },
  {
   "cell_type": "code",
   "execution_count": null,
   "metadata": {
    "collapsed": true
   },
   "outputs": [],
   "source": []
  },
  {
   "cell_type": "code",
   "execution_count": 118,
   "metadata": {
    "collapsed": true
   },
   "outputs": [],
   "source": [
    "# drop columns we don't want to predict\n",
    "reframed.drop(reframed.columns[[-2,-3,-4,-5,-6,-7,-8]], axis=1, inplace=True)"
   ]
  },
  {
   "cell_type": "code",
   "execution_count": 119,
   "metadata": {
    "collapsed": true
   },
   "outputs": [],
   "source": [
    "#reframed.head(20)"
   ]
  },
  {
   "cell_type": "code",
   "execution_count": 120,
   "metadata": {
    "collapsed": true
   },
   "outputs": [],
   "source": [
    "#reframed.columns\n"
   ]
  },
  {
   "cell_type": "code",
   "execution_count": 121,
   "metadata": {
    "collapsed": true
   },
   "outputs": [],
   "source": [
    "len_data=len(reframed);\n",
    "train_len= int(len_data*0.98);\n",
    "\n",
    "# split into train and test sets\n",
    "values = reframed.values\n",
    "train = values[:train_len, :]\n",
    "test = values[train_len:, :]\n",
    "\n",
    "# split into input and outputs\n",
    "train_X, train_y = train[:, :-1], train[:, -1]\n",
    "test_X, test_y = test[:, :-1], test[:, -1]\n",
    "\n",
    "# reshape input to be 3D [samples, timesteps, features]\n",
    "train_X = train_X.reshape((train_X.shape[0], 1, train_X.shape[1]))\n",
    "test_X = test_X.reshape((test_X.shape[0], 1, test_X.shape[1]))\n",
    "#print(train_X.shape, train_y.shape, test_X.shape, test_y.shape)\n",
    "\n",
    "\n"
   ]
  },
  {
   "cell_type": "code",
   "execution_count": 122,
   "metadata": {},
   "outputs": [
    {
     "name": "stdout",
     "output_type": "stream",
     "text": [
      "Train on 16918 samples, validate on 346 samples\n",
      "Epoch 1/50\n",
      " - 2s - loss: 0.0997 - acc: 0.4483 - val_loss: 0.1132 - val_acc: 0.3497\n",
      "Epoch 2/50\n",
      " - 0s - loss: 0.0803 - acc: 0.4483 - val_loss: 0.1059 - val_acc: 0.3497\n",
      "Epoch 3/50\n",
      " - 0s - loss: 0.0759 - acc: 0.4483 - val_loss: 0.1030 - val_acc: 0.3497\n",
      "Epoch 4/50\n",
      " - 0s - loss: 0.0731 - acc: 0.4483 - val_loss: 0.0996 - val_acc: 0.3497\n",
      "Epoch 5/50\n",
      " - 0s - loss: 0.0706 - acc: 0.4483 - val_loss: 0.1027 - val_acc: 0.3497\n",
      "Epoch 6/50\n",
      " - 0s - loss: 0.0690 - acc: 0.4483 - val_loss: 0.0938 - val_acc: 0.3497\n",
      "Epoch 7/50\n",
      " - 0s - loss: 0.0672 - acc: 0.4483 - val_loss: 0.0918 - val_acc: 0.3497\n",
      "Epoch 8/50\n",
      " - 0s - loss: 0.0661 - acc: 0.4483 - val_loss: 0.0924 - val_acc: 0.3497\n",
      "Epoch 9/50\n",
      " - 0s - loss: 0.0647 - acc: 0.4483 - val_loss: 0.0932 - val_acc: 0.3497\n",
      "Epoch 10/50\n",
      " - 0s - loss: 0.0638 - acc: 0.4483 - val_loss: 0.0955 - val_acc: 0.3497\n",
      "Epoch 11/50\n",
      " - 0s - loss: 0.0630 - acc: 0.4483 - val_loss: 0.0954 - val_acc: 0.3497\n",
      "Epoch 12/50\n",
      " - 0s - loss: 0.0623 - acc: 0.4483 - val_loss: 0.0869 - val_acc: 0.3497\n",
      "Epoch 13/50\n",
      " - 0s - loss: 0.0610 - acc: 0.4483 - val_loss: 0.0952 - val_acc: 0.3497\n",
      "Epoch 14/50\n",
      " - 0s - loss: 0.0605 - acc: 0.4483 - val_loss: 0.0875 - val_acc: 0.3497\n",
      "Epoch 15/50\n",
      " - 0s - loss: 0.0597 - acc: 0.4483 - val_loss: 0.0875 - val_acc: 0.3497\n",
      "Epoch 16/50\n",
      " - 0s - loss: 0.0591 - acc: 0.4483 - val_loss: 0.0863 - val_acc: 0.3497\n",
      "Epoch 17/50\n",
      " - 0s - loss: 0.0585 - acc: 0.4483 - val_loss: 0.0857 - val_acc: 0.3497\n",
      "Epoch 18/50\n",
      " - 0s - loss: 0.0579 - acc: 0.4483 - val_loss: 0.0887 - val_acc: 0.3497\n",
      "Epoch 19/50\n",
      " - 0s - loss: 0.0573 - acc: 0.4483 - val_loss: 0.0869 - val_acc: 0.3497\n",
      "Epoch 20/50\n",
      " - 0s - loss: 0.0569 - acc: 0.4483 - val_loss: 0.0919 - val_acc: 0.3497\n",
      "Epoch 21/50\n",
      " - 0s - loss: 0.0567 - acc: 0.4483 - val_loss: 0.0845 - val_acc: 0.3497\n",
      "Epoch 22/50\n",
      " - 0s - loss: 0.0563 - acc: 0.4483 - val_loss: 0.0884 - val_acc: 0.3497\n",
      "Epoch 23/50\n",
      " - 0s - loss: 0.0562 - acc: 0.4483 - val_loss: 0.0893 - val_acc: 0.3497\n",
      "Epoch 24/50\n",
      " - 0s - loss: 0.0556 - acc: 0.4483 - val_loss: 0.0837 - val_acc: 0.3497\n",
      "Epoch 25/50\n",
      " - 0s - loss: 0.0553 - acc: 0.4483 - val_loss: 0.0851 - val_acc: 0.3497\n",
      "Epoch 26/50\n",
      " - 0s - loss: 0.0553 - acc: 0.4483 - val_loss: 0.0870 - val_acc: 0.3497\n",
      "Epoch 27/50\n",
      " - 0s - loss: 0.0551 - acc: 0.4483 - val_loss: 0.0835 - val_acc: 0.3497\n",
      "Epoch 28/50\n",
      " - 0s - loss: 0.0547 - acc: 0.4483 - val_loss: 0.0848 - val_acc: 0.3497\n",
      "Epoch 29/50\n",
      " - 0s - loss: 0.0545 - acc: 0.4483 - val_loss: 0.0843 - val_acc: 0.3497\n",
      "Epoch 30/50\n",
      " - 0s - loss: 0.0542 - acc: 0.4483 - val_loss: 0.0841 - val_acc: 0.3497\n",
      "Epoch 31/50\n",
      " - 0s - loss: 0.0542 - acc: 0.4483 - val_loss: 0.0839 - val_acc: 0.3497\n",
      "Epoch 32/50\n",
      " - 0s - loss: 0.0540 - acc: 0.4483 - val_loss: 0.0835 - val_acc: 0.3497\n",
      "Epoch 33/50\n",
      " - 0s - loss: 0.0537 - acc: 0.4483 - val_loss: 0.0824 - val_acc: 0.3497\n",
      "Epoch 34/50\n",
      " - 0s - loss: 0.0535 - acc: 0.4483 - val_loss: 0.0826 - val_acc: 0.3497\n",
      "Epoch 35/50\n",
      " - 0s - loss: 0.0533 - acc: 0.4483 - val_loss: 0.0826 - val_acc: 0.3497\n",
      "Epoch 36/50\n",
      " - 0s - loss: 0.0533 - acc: 0.4483 - val_loss: 0.0823 - val_acc: 0.3497\n",
      "Epoch 37/50\n",
      " - 0s - loss: 0.0529 - acc: 0.4483 - val_loss: 0.0828 - val_acc: 0.3497\n",
      "Epoch 38/50\n",
      " - 0s - loss: 0.0526 - acc: 0.4483 - val_loss: 0.0877 - val_acc: 0.3497\n",
      "Epoch 39/50\n",
      " - 0s - loss: 0.0527 - acc: 0.4483 - val_loss: 0.0807 - val_acc: 0.3497\n",
      "Epoch 40/50\n",
      " - 0s - loss: 0.0526 - acc: 0.4483 - val_loss: 0.0846 - val_acc: 0.3497\n",
      "Epoch 41/50\n",
      " - 0s - loss: 0.0523 - acc: 0.4483 - val_loss: 0.0849 - val_acc: 0.3497\n",
      "Epoch 42/50\n",
      " - 0s - loss: 0.0522 - acc: 0.4483 - val_loss: 0.0834 - val_acc: 0.3497\n",
      "Epoch 43/50\n",
      " - 0s - loss: 0.0518 - acc: 0.4483 - val_loss: 0.0813 - val_acc: 0.3497\n",
      "Epoch 44/50\n",
      " - 0s - loss: 0.0517 - acc: 0.4483 - val_loss: 0.0825 - val_acc: 0.3497\n",
      "Epoch 45/50\n",
      " - 0s - loss: 0.0519 - acc: 0.4483 - val_loss: 0.0822 - val_acc: 0.3497\n",
      "Epoch 46/50\n",
      " - 0s - loss: 0.0516 - acc: 0.4483 - val_loss: 0.0847 - val_acc: 0.3497\n",
      "Epoch 47/50\n",
      " - 0s - loss: 0.0515 - acc: 0.4483 - val_loss: 0.0815 - val_acc: 0.3497\n",
      "Epoch 48/50\n",
      " - 0s - loss: 0.0515 - acc: 0.4483 - val_loss: 0.0820 - val_acc: 0.3497\n",
      "Epoch 49/50\n",
      " - 0s - loss: 0.0512 - acc: 0.4483 - val_loss: 0.0854 - val_acc: 0.3497\n",
      "Epoch 50/50\n",
      " - 0s - loss: 0.0509 - acc: 0.4483 - val_loss: 0.0816 - val_acc: 0.3497\n"
     ]
    },
    {
     "data": {
      "image/png": "[encoded data removed]",
      "text/plain": [
       "<matplotlib.figure.Figure at 0x229d54a2ac8>"
      ]
     },
     "metadata": {
      "needs_background": "light"
     },
     "output_type": "display_data"
    }
   ],
   "source": [
    "# design network\n",
    "model = Sequential()\n",
    "model.add(LSTM(20, input_shape=(train_X.shape[1], train_X.shape[2])))\n",
    "model.add(Dense(1))\n",
    "model.compile(loss='mae', metrics=['accuracy'],optimizer='rmsprop')\n",
    "\n",
    "# fit network\n",
    "history = model.fit(train_X, train_y, epochs=50, batch_size=72, validation_data=(test_X, test_y), verbose=2, shuffle=True)\n",
    "\n",
    "# plot history\n",
    "pyplot.plot(history.history['loss'], label='train')\n",
    "pyplot.plot(history.history['val_loss'], label='test')\n",
    "pyplot.legend()\n",
    "pyplot.show()\n"
   ]
  },
  {
   "cell_type": "code",
   "execution_count": 123,
   "metadata": {
    "collapsed": true
   },
   "outputs": [],
   "source": [
    "#yhat = model.predict(test_X)"
   ]
  },
  {
   "cell_type": "code",
   "execution_count": 124,
   "metadata": {
    "collapsed": true
   },
   "outputs": [],
   "source": [
    "#yhat.shape"
   ]
  },
  {
   "cell_type": "code",
   "execution_count": 125,
   "metadata": {},
   "outputs": [
    {
     "name": "stdout",
     "output_type": "stream",
     "text": [
      "Test RMSE: 0.157\n"
     ]
    }
   ],
   "source": [
    "# make a prediction\n",
    "yhat = model.predict(test_X)\n",
    "test_X = test_X.reshape((test_X.shape[0], test_X.shape[2]))\n",
    "\n",
    "test_y = test_y.reshape((len(test_y), 1))\n",
    "\n",
    "# calculate RMSE\n",
    "rmse = sqrt(mean_squared_error(yhat,test_y))\n",
    "print('Test RMSE: %.3f' % rmse)"
   ]
  },
  {
   "cell_type": "code",
   "execution_count": 126,
   "metadata": {
    "collapsed": true
   },
   "outputs": [],
   "source": [
    "import time\n",
    "predictSTR= 'prediction for  '+ str(prediction_step*5) +' minute'\n"
   ]
  },
  {
   "cell_type": "code",
   "execution_count": 127,
   "metadata": {
    "collapsed": true
   },
   "outputs": [],
   "source": [
    "#import pandas as pd\n",
    "#asa = list(test_y*50000)\n",
    "#df=pd.DataFrame(asa)\n",
    "#df.to_csv('test_y.csv',index = False)"
   ]
  },
  {
   "cell_type": "code",
   "execution_count": 128,
   "metadata": {},
   "outputs": [
    {
     "data": {
      "image/png": "[encoded data removed]",
      "text/plain": [
       "<matplotlib.figure.Figure at 0x229d516b550>"
      ]
     },
     "metadata": {
      "needs_background": "light"
     },
     "output_type": "display_data"
    },
    {
     "name": "stdout",
     "output_type": "stream",
     "text": [
      "Test RMSE: 0.157\n"
     ]
    }
   ],
   "source": [
    "pyplot.plot(yhat*50000, label= predictSTR)\n",
    "pyplot.plot(test_y*50000, label= 'Real Value')\n",
    "pyplot.legend()\n",
    "pyplot.xlabel('Sample of Data resulation 5 minute')\n",
    "pyplot.ylabel('Power(Watts)')\n",
    "pyplot.title('(July 2018) Prediction and Real Power Supplied by Solar Panel')\n",
    "pyplot.grid(True)\n",
    "pyplot.show()\n",
    "print('Test RMSE: %.3f' % rmse)\n",
    "\n"
   ]
  },
  {
   "cell_type": "code",
   "execution_count": 129,
   "metadata": {
    "collapsed": true
   },
   "outputs": [],
   "source": [
    "#import pandas as pd\n",
    "#df= pd.DataFrame(yhat)\n",
    "#df.to_csv(\"yhat.csv\",index=False)\n",
    "#df= pd.DataFrame(test_y)\n",
    "#df.to_csv(\"test.csv\",index=False)\n"
   ]
  },
  {
   "cell_type": "code",
   "execution_count": 130,
   "metadata": {
    "collapsed": true
   },
   "outputs": [],
   "source": [
    "#df= pd.DataFrame(test_X[:,0])\n",
    "#df.to_csv('cloudcover.csv', index=False)"
   ]
  },
  {
   "cell_type": "code",
   "execution_count": 131,
   "metadata": {},
   "outputs": [
    {
     "data": {
      "text/plain": [
       "(346, 80)"
      ]
     },
     "execution_count": 131,
     "metadata": {},
     "output_type": "execute_result"
    }
   ],
   "source": [
    "test_X.shape"
   ]
  },
  {
   "cell_type": "code",
   "execution_count": 132,
   "metadata": {},
   "outputs": [
    {
     "data": {
      "text/plain": [
       "346"
      ]
     },
     "execution_count": 132,
     "metadata": {},
     "output_type": "execute_result"
    }
   ],
   "source": [
    "len(yhat)"
   ]
  },
  {
   "cell_type": "code",
   "execution_count": 133,
   "metadata": {},
   "outputs": [
    {
     "data": {
      "text/plain": [
       "346"
      ]
     },
     "execution_count": 133,
     "metadata": {},
     "output_type": "execute_result"
    }
   ],
   "source": [
    "len(test_y)"
   ]
  },
  {
   "cell_type": "code",
   "execution_count": null,
   "metadata": {
    "collapsed": true
   },
   "outputs": [],
   "source": []
  }
 ],
 "metadata": {
  "kernelspec": {
   "display_name": "Python 3",
   "language": "python",
   "name": "python3"
  },
  "language_info": {
   "codemirror_mode": {
    "name": "ipython",
    "version": 3
   },
   "file_extension": ".py",
   "mimetype": "text/x-python",
   "name": "python",
   "nbconvert_exporter": "python",
   "pygments_lexer": "ipython3",
   "version": "3.6.3"
  }
 },
 "nbformat": 4,
 "nbformat_minor": 2
}
