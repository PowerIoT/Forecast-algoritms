{
 "cells": [
  {
   "cell_type": "code",
   "execution_count": 534,
   "metadata": {},
   "outputs": [],
   "source": [
    "from math import sqrt\n",
    "from numpy import concatenate\n",
    "import numpy as np\n",
    "from matplotlib import pyplot\n",
    "from pandas import read_csv\n",
    "from pandas import DataFrame\n",
    "from pandas import concat\n",
    "from sklearn.preprocessing import MinMaxScaler\n",
    "from sklearn.preprocessing import LabelEncoder\n",
    "from sklearn.metrics import mean_squared_error\n",
    "from keras.models import Sequential\n",
    "from keras.layers import Dense\n",
    "from keras.layers import LSTM\n"
   ]
  },
  {
   "cell_type": "code",
   "execution_count": 535,
   "metadata": {
    "collapsed": true
   },
   "outputs": [],
   "source": [
    "# convert series to supervised learning\n",
    "def series_to_supervised(data, n_in=6, n_out=12, dropnan=True):\n",
    "\tn_vars = 1 if type(data) is list else data.shape[1]\n",
    "\tdf = DataFrame(data)\n",
    "\tcols, names = list(), list()\n",
    "\t# input sequence (t-n, ... t-1)\n",
    "\tfor i in range(n_in, 0, -1):\n",
    "\t\tcols.append(df.shift(i))\n",
    "\t\tnames += [('var%d(t-%d)' % (j+1, i)) for j in range(n_vars)]\n",
    "\t# forecast sequence (t, t+1, ... t+n)\n",
    "\tfor i in range(0, n_out):\n",
    "\t\tcols.append(df.shift(-i))\n",
    "\t\tif i == 0:\n",
    "\t\t\tnames += [('var%d(t)' % (j+1)) for j in range(n_vars)]\n",
    "\t\telse:\n",
    "\t\t\tnames += [('var%d(t+%d)' % (j+1, i)) for j in range(n_vars)]\n",
    "\t# put it all together\n",
    "\tagg = concat(cols, axis=1)\n",
    "\tagg.columns = names\n",
    "\t# drop rows with NaN values\n",
    "\tif dropnan:\n",
    "\t\tagg.dropna(inplace=True)\n",
    "\treturn agg"
   ]
  },
  {
   "cell_type": "code",
   "execution_count": 536,
   "metadata": {
    "collapsed": true
   },
   "outputs": [],
   "source": [
    "#load daraset\n",
    "dataset= read_csv('powerandweather.csv', header=0, index_col='time')\n",
    "\n"
   ]
  },
  {
   "cell_type": "code",
   "execution_count": 537,
   "metadata": {},
   "outputs": [],
   "source": [
    "#dataset.tail(20)"
   ]
  },
  {
   "cell_type": "code",
   "execution_count": 538,
   "metadata": {},
   "outputs": [],
   "source": [
    "dataset.replace([np.inf ,-np.inf],np.nan)\n",
    "dataset.fillna(method='ffill')\n",
    "values=dataset.values"
   ]
  },
  {
   "cell_type": "code",
   "execution_count": 539,
   "metadata": {},
   "outputs": [],
   "source": [
    "# normalize features\n",
    "data=dataset\n",
    "data['cloudCover'] = (data['cloudCover']- data['cloudCover'].min())/(data['cloudCover'].max()-data['cloudCover'].min())\n",
    "data['dewPoint'] = (data['dewPoint']-data['dewPoint'].min())/(data['dewPoint'].max()-data['dewPoint'].min())\n",
    "data['humidity'] = (data['humidity']-data['humidity'].min())/(data['humidity'].max()-data['humidity'].min())\n",
    "data['temperature'] = (data['temperature']-data['temperature'].min())/(data['temperature'].max()-data['temperature'].min())\n",
    "data['pressure'] = (data['pressure']-data['pressure'].min())/(data['pressure'].max()-data['pressure'].min())\n",
    "data['windBearing'] = (data['windBearing']-data['windBearing'].min())/(data['windBearing'].max()-data['windBearing'].min())\n",
    "data['windSpeed'] = (data['windSpeed']-data['windSpeed'].min())/(data['windSpeed'].max()-data['windSpeed'].min())\n",
    "#data['power'] = (data['power']-data['power'].min())/(data['power'].max()-data['power'].min())\n",
    "data['power']=data['power']/50000\n",
    "\n",
    "scaled=data\n"
   ]
  },
  {
   "cell_type": "code",
   "execution_count": 541,
   "metadata": {
    "collapsed": true
   },
   "outputs": [],
   "source": [
    "# frame as supervised learning\n",
    "reframed = series_to_supervised(scaled, 1, 1)"
   ]
  },
  {
   "cell_type": "code",
   "execution_count": 542,
   "metadata": {},
   "outputs": [
    {
     "data": {
      "text/html": [
       "<div>\n",
       "<style>\n",
       "    .dataframe thead tr:only-child th {\n",
       "        text-align: right;\n",
       "    }\n",
       "\n",
       "    .dataframe thead th {\n",
       "        text-align: left;\n",
       "    }\n",
       "\n",
       "    .dataframe tbody tr th {\n",
       "        vertical-align: top;\n",
       "    }\n",
       "</style>\n",
       "<table border=\"1\" class=\"dataframe\">\n",
       "  <thead>\n",
       "    <tr style=\"text-align: right;\">\n",
       "      <th></th>\n",
       "      <th>var1(t-1)</th>\n",
       "      <th>var2(t-1)</th>\n",
       "      <th>var3(t-1)</th>\n",
       "      <th>var4(t-1)</th>\n",
       "      <th>var5(t-1)</th>\n",
       "      <th>var6(t-1)</th>\n",
       "      <th>var7(t-1)</th>\n",
       "      <th>var8(t-1)</th>\n",
       "      <th>var1(t)</th>\n",
       "      <th>var2(t)</th>\n",
       "      <th>var3(t)</th>\n",
       "      <th>var4(t)</th>\n",
       "      <th>var5(t)</th>\n",
       "      <th>var6(t)</th>\n",
       "      <th>var7(t)</th>\n",
       "      <th>var8(t)</th>\n",
       "    </tr>\n",
       "    <tr>\n",
       "      <th>time</th>\n",
       "      <th></th>\n",
       "      <th></th>\n",
       "      <th></th>\n",
       "      <th></th>\n",
       "      <th></th>\n",
       "      <th></th>\n",
       "      <th></th>\n",
       "      <th></th>\n",
       "      <th></th>\n",
       "      <th></th>\n",
       "      <th></th>\n",
       "      <th></th>\n",
       "      <th></th>\n",
       "      <th></th>\n",
       "      <th></th>\n",
       "      <th></th>\n",
       "    </tr>\n",
       "  </thead>\n",
       "  <tbody>\n",
       "    <tr>\n",
       "      <th>1521061500</th>\n",
       "      <td>0.38</td>\n",
       "      <td>0.570005</td>\n",
       "      <td>0.769231</td>\n",
       "      <td>0.268186</td>\n",
       "      <td>0.521311</td>\n",
       "      <td>0.662953</td>\n",
       "      <td>0.170129</td>\n",
       "      <td>0.0</td>\n",
       "      <td>0.38</td>\n",
       "      <td>0.568983</td>\n",
       "      <td>0.769231</td>\n",
       "      <td>0.289517</td>\n",
       "      <td>0.518033</td>\n",
       "      <td>0.660167</td>\n",
       "      <td>0.167883</td>\n",
       "      <td>0.0</td>\n",
       "    </tr>\n",
       "    <tr>\n",
       "      <th>1521061800</th>\n",
       "      <td>0.38</td>\n",
       "      <td>0.568983</td>\n",
       "      <td>0.769231</td>\n",
       "      <td>0.289517</td>\n",
       "      <td>0.518033</td>\n",
       "      <td>0.660167</td>\n",
       "      <td>0.167883</td>\n",
       "      <td>0.0</td>\n",
       "      <td>0.39</td>\n",
       "      <td>0.567961</td>\n",
       "      <td>0.769231</td>\n",
       "      <td>0.288970</td>\n",
       "      <td>0.518033</td>\n",
       "      <td>0.657382</td>\n",
       "      <td>0.165637</td>\n",
       "      <td>0.0</td>\n",
       "    </tr>\n",
       "    <tr>\n",
       "      <th>1521062100</th>\n",
       "      <td>0.39</td>\n",
       "      <td>0.567961</td>\n",
       "      <td>0.769231</td>\n",
       "      <td>0.288970</td>\n",
       "      <td>0.518033</td>\n",
       "      <td>0.657382</td>\n",
       "      <td>0.165637</td>\n",
       "      <td>0.0</td>\n",
       "      <td>0.39</td>\n",
       "      <td>0.566939</td>\n",
       "      <td>0.769231</td>\n",
       "      <td>0.288423</td>\n",
       "      <td>0.518033</td>\n",
       "      <td>0.651811</td>\n",
       "      <td>0.163391</td>\n",
       "      <td>0.0</td>\n",
       "    </tr>\n",
       "    <tr>\n",
       "      <th>1521062400</th>\n",
       "      <td>0.39</td>\n",
       "      <td>0.566939</td>\n",
       "      <td>0.769231</td>\n",
       "      <td>0.288423</td>\n",
       "      <td>0.518033</td>\n",
       "      <td>0.651811</td>\n",
       "      <td>0.163391</td>\n",
       "      <td>0.0</td>\n",
       "      <td>0.40</td>\n",
       "      <td>0.565917</td>\n",
       "      <td>0.769231</td>\n",
       "      <td>0.288058</td>\n",
       "      <td>0.518033</td>\n",
       "      <td>0.649025</td>\n",
       "      <td>0.161145</td>\n",
       "      <td>0.0</td>\n",
       "    </tr>\n",
       "    <tr>\n",
       "      <th>1521062700</th>\n",
       "      <td>0.40</td>\n",
       "      <td>0.565917</td>\n",
       "      <td>0.769231</td>\n",
       "      <td>0.288058</td>\n",
       "      <td>0.518033</td>\n",
       "      <td>0.649025</td>\n",
       "      <td>0.161145</td>\n",
       "      <td>0.0</td>\n",
       "      <td>0.40</td>\n",
       "      <td>0.564895</td>\n",
       "      <td>0.769231</td>\n",
       "      <td>0.287511</td>\n",
       "      <td>0.518033</td>\n",
       "      <td>0.646240</td>\n",
       "      <td>0.159461</td>\n",
       "      <td>0.0</td>\n",
       "    </tr>\n",
       "    <tr>\n",
       "      <th>1521063000</th>\n",
       "      <td>0.40</td>\n",
       "      <td>0.564895</td>\n",
       "      <td>0.769231</td>\n",
       "      <td>0.287511</td>\n",
       "      <td>0.518033</td>\n",
       "      <td>0.646240</td>\n",
       "      <td>0.159461</td>\n",
       "      <td>0.0</td>\n",
       "      <td>0.41</td>\n",
       "      <td>0.563873</td>\n",
       "      <td>0.769231</td>\n",
       "      <td>0.287147</td>\n",
       "      <td>0.518033</td>\n",
       "      <td>0.643454</td>\n",
       "      <td>0.157215</td>\n",
       "      <td>0.0</td>\n",
       "    </tr>\n",
       "    <tr>\n",
       "      <th>1521063300</th>\n",
       "      <td>0.41</td>\n",
       "      <td>0.563873</td>\n",
       "      <td>0.769231</td>\n",
       "      <td>0.287147</td>\n",
       "      <td>0.518033</td>\n",
       "      <td>0.643454</td>\n",
       "      <td>0.157215</td>\n",
       "      <td>0.0</td>\n",
       "      <td>0.41</td>\n",
       "      <td>0.562851</td>\n",
       "      <td>0.769231</td>\n",
       "      <td>0.286600</td>\n",
       "      <td>0.518033</td>\n",
       "      <td>0.637883</td>\n",
       "      <td>0.155531</td>\n",
       "      <td>0.0</td>\n",
       "    </tr>\n",
       "    <tr>\n",
       "      <th>1521063600</th>\n",
       "      <td>0.41</td>\n",
       "      <td>0.562851</td>\n",
       "      <td>0.769231</td>\n",
       "      <td>0.286600</td>\n",
       "      <td>0.518033</td>\n",
       "      <td>0.637883</td>\n",
       "      <td>0.155531</td>\n",
       "      <td>0.0</td>\n",
       "      <td>0.42</td>\n",
       "      <td>0.561829</td>\n",
       "      <td>0.769231</td>\n",
       "      <td>0.286053</td>\n",
       "      <td>0.518033</td>\n",
       "      <td>0.635097</td>\n",
       "      <td>0.153846</td>\n",
       "      <td>0.0</td>\n",
       "    </tr>\n",
       "    <tr>\n",
       "      <th>1521063900</th>\n",
       "      <td>0.42</td>\n",
       "      <td>0.561829</td>\n",
       "      <td>0.769231</td>\n",
       "      <td>0.286053</td>\n",
       "      <td>0.518033</td>\n",
       "      <td>0.635097</td>\n",
       "      <td>0.153846</td>\n",
       "      <td>0.0</td>\n",
       "      <td>0.42</td>\n",
       "      <td>0.560807</td>\n",
       "      <td>0.769231</td>\n",
       "      <td>0.285688</td>\n",
       "      <td>0.514754</td>\n",
       "      <td>0.629526</td>\n",
       "      <td>0.152162</td>\n",
       "      <td>0.0</td>\n",
       "    </tr>\n",
       "    <tr>\n",
       "      <th>1521064200</th>\n",
       "      <td>0.42</td>\n",
       "      <td>0.560807</td>\n",
       "      <td>0.769231</td>\n",
       "      <td>0.285688</td>\n",
       "      <td>0.514754</td>\n",
       "      <td>0.629526</td>\n",
       "      <td>0.152162</td>\n",
       "      <td>0.0</td>\n",
       "      <td>0.43</td>\n",
       "      <td>0.560041</td>\n",
       "      <td>0.769231</td>\n",
       "      <td>0.285141</td>\n",
       "      <td>0.514754</td>\n",
       "      <td>0.626741</td>\n",
       "      <td>0.150477</td>\n",
       "      <td>0.0</td>\n",
       "    </tr>\n",
       "  </tbody>\n",
       "</table>\n",
       "</div>"
      ],
      "text/plain": [
       "            var1(t-1)  var2(t-1)  var3(t-1)  var4(t-1)  var5(t-1)  var6(t-1)  \\\n",
       "time                                                                           \n",
       "1521061500       0.38   0.570005   0.769231   0.268186   0.521311   0.662953   \n",
       "1521061800       0.38   0.568983   0.769231   0.289517   0.518033   0.660167   \n",
       "1521062100       0.39   0.567961   0.769231   0.288970   0.518033   0.657382   \n",
       "1521062400       0.39   0.566939   0.769231   0.288423   0.518033   0.651811   \n",
       "1521062700       0.40   0.565917   0.769231   0.288058   0.518033   0.649025   \n",
       "1521063000       0.40   0.564895   0.769231   0.287511   0.518033   0.646240   \n",
       "1521063300       0.41   0.563873   0.769231   0.287147   0.518033   0.643454   \n",
       "1521063600       0.41   0.562851   0.769231   0.286600   0.518033   0.637883   \n",
       "1521063900       0.42   0.561829   0.769231   0.286053   0.518033   0.635097   \n",
       "1521064200       0.42   0.560807   0.769231   0.285688   0.514754   0.629526   \n",
       "\n",
       "            var7(t-1)  var8(t-1)  var1(t)   var2(t)   var3(t)   var4(t)  \\\n",
       "time                                                                      \n",
       "1521061500   0.170129        0.0     0.38  0.568983  0.769231  0.289517   \n",
       "1521061800   0.167883        0.0     0.39  0.567961  0.769231  0.288970   \n",
       "1521062100   0.165637        0.0     0.39  0.566939  0.769231  0.288423   \n",
       "1521062400   0.163391        0.0     0.40  0.565917  0.769231  0.288058   \n",
       "1521062700   0.161145        0.0     0.40  0.564895  0.769231  0.287511   \n",
       "1521063000   0.159461        0.0     0.41  0.563873  0.769231  0.287147   \n",
       "1521063300   0.157215        0.0     0.41  0.562851  0.769231  0.286600   \n",
       "1521063600   0.155531        0.0     0.42  0.561829  0.769231  0.286053   \n",
       "1521063900   0.153846        0.0     0.42  0.560807  0.769231  0.285688   \n",
       "1521064200   0.152162        0.0     0.43  0.560041  0.769231  0.285141   \n",
       "\n",
       "             var5(t)   var6(t)   var7(t)  var8(t)  \n",
       "time                                               \n",
       "1521061500  0.518033  0.660167  0.167883      0.0  \n",
       "1521061800  0.518033  0.657382  0.165637      0.0  \n",
       "1521062100  0.518033  0.651811  0.163391      0.0  \n",
       "1521062400  0.518033  0.649025  0.161145      0.0  \n",
       "1521062700  0.518033  0.646240  0.159461      0.0  \n",
       "1521063000  0.518033  0.643454  0.157215      0.0  \n",
       "1521063300  0.518033  0.637883  0.155531      0.0  \n",
       "1521063600  0.518033  0.635097  0.153846      0.0  \n",
       "1521063900  0.514754  0.629526  0.152162      0.0  \n",
       "1521064200  0.514754  0.626741  0.150477      0.0  "
      ]
     },
     "execution_count": 542,
     "metadata": {},
     "output_type": "execute_result"
    }
   ],
   "source": [
    "reframed.head(10)"
   ]
  },
  {
   "cell_type": "code",
   "execution_count": null,
   "metadata": {},
   "outputs": [],
   "source": []
  },
  {
   "cell_type": "code",
   "execution_count": 517,
   "metadata": {},
   "outputs": [],
   "source": [
    "# drop columns we don't want to predict\n",
    "reframed.drop(reframed.columns[[8,9,10,11,12,13,14]], axis=1, inplace=True)"
   ]
  },
  {
   "cell_type": "code",
   "execution_count": 518,
   "metadata": {},
   "outputs": [],
   "source": [
    "#print(reframed.head(20))"
   ]
  },
  {
   "cell_type": "code",
   "execution_count": 519,
   "metadata": {},
   "outputs": [
    {
     "data": {
      "text/plain": [
       "Index(['var1(t-1)', 'var2(t-1)', 'var3(t-1)', 'var4(t-1)', 'var5(t-1)',\n",
       "       'var6(t-1)', 'var7(t-1)', 'var8(t-1)', 'var8(t)'],\n",
       "      dtype='object')"
      ]
     },
     "execution_count": 519,
     "metadata": {},
     "output_type": "execute_result"
    }
   ],
   "source": [
    "reframed.columns\n"
   ]
  },
  {
   "cell_type": "code",
   "execution_count": 520,
   "metadata": {},
   "outputs": [
    {
     "name": "stdout",
     "output_type": "stream",
     "text": [
      "(14378, 1, 8) (14378,) (3595, 1, 8) (3595,)\n"
     ]
    }
   ],
   "source": [
    "len_data=len(reframed);\n",
    "train_len= int(len_data*0.8);\n",
    "\n",
    "# split into train and test sets\n",
    "values = reframed.values\n",
    "train = values[:train_len, :]\n",
    "test = values[train_len:, :]\n",
    "\n",
    "# split into input and outputs\n",
    "train_X, train_y = train[:, :-1], train[:, -1]\n",
    "test_X, test_y = test[:, :-1], test[:, -1]\n",
    "\n",
    "# reshape input to be 3D [samples, timesteps, features]\n",
    "train_X = train_X.reshape((train_X.shape[0], 1, train_X.shape[1]))\n",
    "test_X = test_X.reshape((test_X.shape[0], 1, test_X.shape[1]))\n",
    "print(train_X.shape, train_y.shape, test_X.shape, test_y.shape)\n",
    "\n",
    "\n"
   ]
  },
  {
   "cell_type": "code",
   "execution_count": 521,
   "metadata": {},
   "outputs": [
    {
     "name": "stdout",
     "output_type": "stream",
     "text": [
      "Train on 14378 samples, validate on 3595 samples\n",
      "Epoch 1/50\n",
      " - 2s - loss: 0.1065 - acc: 0.4640 - val_loss: 0.0917 - val_acc: 0.4047\n",
      "Epoch 2/50\n",
      " - 0s - loss: 0.0321 - acc: 0.4640 - val_loss: 0.0334 - val_acc: 0.4047\n",
      "Epoch 3/50\n",
      " - 0s - loss: 0.0208 - acc: 0.4640 - val_loss: 0.0344 - val_acc: 0.4047\n",
      "Epoch 4/50\n",
      " - 0s - loss: 0.0203 - acc: 0.4640 - val_loss: 0.0323 - val_acc: 0.4047\n",
      "Epoch 5/50\n",
      " - 0s - loss: 0.0201 - acc: 0.4640 - val_loss: 0.0324 - val_acc: 0.4047\n",
      "Epoch 6/50\n",
      " - 0s - loss: 0.0199 - acc: 0.4640 - val_loss: 0.0326 - val_acc: 0.4047\n",
      "Epoch 7/50\n",
      " - 0s - loss: 0.0197 - acc: 0.4640 - val_loss: 0.0327 - val_acc: 0.4047\n",
      "Epoch 8/50\n",
      " - 0s - loss: 0.0197 - acc: 0.4640 - val_loss: 0.0360 - val_acc: 0.4047\n",
      "Epoch 9/50\n",
      " - 0s - loss: 0.0194 - acc: 0.4640 - val_loss: 0.0336 - val_acc: 0.4047\n",
      "Epoch 10/50\n",
      " - 0s - loss: 0.0194 - acc: 0.4640 - val_loss: 0.0347 - val_acc: 0.4047\n",
      "Epoch 11/50\n",
      " - 0s - loss: 0.0193 - acc: 0.4640 - val_loss: 0.0371 - val_acc: 0.4047\n",
      "Epoch 12/50\n",
      " - 0s - loss: 0.0191 - acc: 0.4640 - val_loss: 0.0337 - val_acc: 0.4047\n",
      "Epoch 13/50\n",
      " - 0s - loss: 0.0190 - acc: 0.4640 - val_loss: 0.0332 - val_acc: 0.4047\n",
      "Epoch 14/50\n",
      " - 0s - loss: 0.0189 - acc: 0.4640 - val_loss: 0.0312 - val_acc: 0.4047\n",
      "Epoch 15/50\n",
      " - 0s - loss: 0.0189 - acc: 0.4640 - val_loss: 0.0372 - val_acc: 0.4047\n",
      "Epoch 16/50\n",
      " - 0s - loss: 0.0188 - acc: 0.4640 - val_loss: 0.0331 - val_acc: 0.4047\n",
      "Epoch 17/50\n",
      " - 0s - loss: 0.0187 - acc: 0.4640 - val_loss: 0.0309 - val_acc: 0.4047\n",
      "Epoch 18/50\n",
      " - 0s - loss: 0.0185 - acc: 0.4640 - val_loss: 0.0348 - val_acc: 0.4047\n",
      "Epoch 19/50\n",
      " - 0s - loss: 0.0186 - acc: 0.4640 - val_loss: 0.0303 - val_acc: 0.4047\n",
      "Epoch 20/50\n",
      " - 0s - loss: 0.0185 - acc: 0.4640 - val_loss: 0.0332 - val_acc: 0.4047\n",
      "Epoch 21/50\n",
      " - 0s - loss: 0.0183 - acc: 0.4640 - val_loss: 0.0309 - val_acc: 0.4047\n",
      "Epoch 22/50\n",
      " - 0s - loss: 0.0183 - acc: 0.4640 - val_loss: 0.0345 - val_acc: 0.4047\n",
      "Epoch 23/50\n",
      " - 0s - loss: 0.0183 - acc: 0.4640 - val_loss: 0.0323 - val_acc: 0.4047\n",
      "Epoch 24/50\n",
      " - 0s - loss: 0.0182 - acc: 0.4640 - val_loss: 0.0331 - val_acc: 0.4047\n",
      "Epoch 25/50\n",
      " - 0s - loss: 0.0181 - acc: 0.4640 - val_loss: 0.0333 - val_acc: 0.4047\n",
      "Epoch 26/50\n",
      " - 0s - loss: 0.0182 - acc: 0.4640 - val_loss: 0.0304 - val_acc: 0.4047\n",
      "Epoch 27/50\n",
      " - 0s - loss: 0.0181 - acc: 0.4640 - val_loss: 0.0341 - val_acc: 0.4047\n",
      "Epoch 28/50\n",
      " - 0s - loss: 0.0181 - acc: 0.4640 - val_loss: 0.0309 - val_acc: 0.4047\n",
      "Epoch 29/50\n",
      " - 0s - loss: 0.0180 - acc: 0.4640 - val_loss: 0.0310 - val_acc: 0.4047\n",
      "Epoch 30/50\n",
      " - 0s - loss: 0.0180 - acc: 0.4640 - val_loss: 0.0325 - val_acc: 0.4047\n",
      "Epoch 31/50\n",
      " - 0s - loss: 0.0180 - acc: 0.4640 - val_loss: 0.0308 - val_acc: 0.4047\n",
      "Epoch 32/50\n",
      " - 0s - loss: 0.0179 - acc: 0.4640 - val_loss: 0.0321 - val_acc: 0.4047\n",
      "Epoch 33/50\n",
      " - 0s - loss: 0.0178 - acc: 0.4640 - val_loss: 0.0356 - val_acc: 0.4047\n",
      "Epoch 34/50\n",
      " - 0s - loss: 0.0179 - acc: 0.4640 - val_loss: 0.0323 - val_acc: 0.4047\n",
      "Epoch 35/50\n",
      " - 0s - loss: 0.0178 - acc: 0.4640 - val_loss: 0.0334 - val_acc: 0.4047\n",
      "Epoch 36/50\n",
      " - 0s - loss: 0.0178 - acc: 0.4640 - val_loss: 0.0309 - val_acc: 0.4047\n",
      "Epoch 37/50\n",
      " - 0s - loss: 0.0177 - acc: 0.4640 - val_loss: 0.0309 - val_acc: 0.4047\n",
      "Epoch 38/50\n",
      " - 0s - loss: 0.0178 - acc: 0.4640 - val_loss: 0.0308 - val_acc: 0.4047\n",
      "Epoch 39/50\n",
      " - 0s - loss: 0.0176 - acc: 0.4640 - val_loss: 0.0318 - val_acc: 0.4047\n",
      "Epoch 40/50\n",
      " - 0s - loss: 0.0176 - acc: 0.4640 - val_loss: 0.0318 - val_acc: 0.4047\n",
      "Epoch 41/50\n",
      " - 0s - loss: 0.0176 - acc: 0.4640 - val_loss: 0.0307 - val_acc: 0.4047\n",
      "Epoch 42/50\n",
      " - 0s - loss: 0.0175 - acc: 0.4640 - val_loss: 0.0319 - val_acc: 0.4047\n",
      "Epoch 43/50\n",
      " - 0s - loss: 0.0175 - acc: 0.4640 - val_loss: 0.0319 - val_acc: 0.4047\n",
      "Epoch 44/50\n",
      " - 0s - loss: 0.0175 - acc: 0.4640 - val_loss: 0.0320 - val_acc: 0.4047\n",
      "Epoch 45/50\n",
      " - 0s - loss: 0.0175 - acc: 0.4640 - val_loss: 0.0327 - val_acc: 0.4047\n",
      "Epoch 46/50\n",
      " - 0s - loss: 0.0175 - acc: 0.4640 - val_loss: 0.0313 - val_acc: 0.4047\n",
      "Epoch 47/50\n",
      " - 0s - loss: 0.0175 - acc: 0.4640 - val_loss: 0.0319 - val_acc: 0.4047\n",
      "Epoch 48/50\n",
      " - 0s - loss: 0.0175 - acc: 0.4640 - val_loss: 0.0329 - val_acc: 0.4047\n",
      "Epoch 49/50\n",
      " - 0s - loss: 0.0174 - acc: 0.4640 - val_loss: 0.0316 - val_acc: 0.4047\n",
      "Epoch 50/50\n",
      " - 0s - loss: 0.0174 - acc: 0.4640 - val_loss: 0.0302 - val_acc: 0.4047\n"
     ]
    },
    {
     "data": {
      "image/png": "[encoded data removed]",
      "text/plain": [
       "<matplotlib.figure.Figure at 0x1dc78266a20>"
      ]
     },
     "metadata": {
      "needs_background": "light"
     },
     "output_type": "display_data"
    }
   ],
   "source": [
    "# design network\n",
    "model = Sequential()\n",
    "model.add(LSTM(20, input_shape=(train_X.shape[1], train_X.shape[2])))\n",
    "model.add(Dense(1))\n",
    "model.compile(loss='mae', metrics=['accuracy'],optimizer='rmsprop')\n",
    "\n",
    "# fit network\n",
    "history = model.fit(train_X, train_y, epochs=50, batch_size=72, validation_data=(test_X, test_y), verbose=2, shuffle=True)\n",
    "\n",
    "# plot history\n",
    "pyplot.plot(history.history['loss'], label='train')\n",
    "pyplot.plot(history.history['val_loss'], label='test')\n",
    "pyplot.legend()\n",
    "pyplot.show()\n"
   ]
  },
  {
   "cell_type": "code",
   "execution_count": 522,
   "metadata": {},
   "outputs": [],
   "source": [
    "yhat = model.predict(test_X)"
   ]
  },
  {
   "cell_type": "code",
   "execution_count": 523,
   "metadata": {},
   "outputs": [
    {
     "data": {
      "text/plain": [
       "(3595, 1)"
      ]
     },
     "execution_count": 523,
     "metadata": {},
     "output_type": "execute_result"
    }
   ],
   "source": [
    "yhat.shape"
   ]
  },
  {
   "cell_type": "code",
   "execution_count": 524,
   "metadata": {},
   "outputs": [
    {
     "name": "stdout",
     "output_type": "stream",
     "text": [
      "Test RMSE: 0.103\n"
     ]
    }
   ],
   "source": [
    "# make a prediction\n",
    "yhat = model.predict(test_X)\n",
    "test_X = test_X.reshape((test_X.shape[0], test_X.shape[2]))\n",
    "\n",
    "test_y = test_y.reshape((len(test_y), 1))\n",
    "\n",
    "# calculate RMSE\n",
    "rmse = sqrt(mean_squared_error(yhat[0:len(yhat)-2,0],test_y[1:len(test_y)-1,0]))\n",
    "print('Test RMSE: %.3f' % rmse)"
   ]
  },
  {
   "cell_type": "code",
   "execution_count": null,
   "metadata": {},
   "outputs": [],
   "source": []
  },
  {
   "cell_type": "code",
   "execution_count": 527,
   "metadata": {},
   "outputs": [
    {
     "data": {
      "image/png": "[encoded data removed]",
      "text/plain": [
       "<matplotlib.figure.Figure at 0x1dc79cc2898>"
      ]
     },
     "metadata": {
      "needs_background": "light"
     },
     "output_type": "display_data"
    }
   ],
   "source": [
    "pyplot.plot(yhat[0:len(yhat)-2,0]*50000, label= 'predict')\n",
    "pyplot.plot(test_y[1:len(test_y)-1,0]*50000, label= 'Present')\n",
    "pyplot.legend()\n",
    "pyplot.show()\n"
   ]
  },
  {
   "cell_type": "code",
   "execution_count": 528,
   "metadata": {},
   "outputs": [],
   "source": [
    "import pandas as pd\n",
    "df= pd.DataFrame(yhat)\n",
    "df.to_csv(\"yhat.csv\",index=False)\n",
    "df= pd.DataFrame(test_y)\n",
    "df.to_csv(\"test.csv\",index=False)\n"
   ]
  },
  {
   "cell_type": "code",
   "execution_count": 530,
   "metadata": {},
   "outputs": [
    {
     "data": {
      "text/plain": [
       "array([0.44      , 0.91415432, 0.76923077, 0.54475843, 0.41967213,\n",
       "       0.33983287, 0.17405952, 0.        ])"
      ]
     },
     "execution_count": 530,
     "metadata": {},
     "output_type": "execute_result"
    }
   ],
   "source": [
    "test_X[0]"
   ]
  },
  {
   "cell_type": "code",
   "execution_count": 533,
   "metadata": {
    "collapsed": true
   },
   "outputs": [],
   "source": [
    "df= pd.DataFrame(test_X[:,0])\n",
    "df.to_csv('cloudcover.csv', index=False)"
   ]
  },
  {
   "cell_type": "code",
   "execution_count": 532,
   "metadata": {},
   "outputs": [
    {
     "data": {
      "text/plain": [
       "(3595, 8)"
      ]
     },
     "execution_count": 532,
     "metadata": {},
     "output_type": "execute_result"
    }
   ],
   "source": [
    "test_X.shape"
   ]
  },
  {
   "cell_type": "code",
   "execution_count": null,
   "metadata": {
    "collapsed": true
   },
   "outputs": [],
   "source": []
  }
 ],
 "metadata": {
  "kernelspec": {
   "display_name": "Python 3",
   "language": "python",
   "name": "python3"
  },
  "language_info": {
   "codemirror_mode": {
    "name": "ipython",
    "version": 3
   },
   "file_extension": ".py",
   "mimetype": "text/x-python",
   "name": "python",
   "nbconvert_exporter": "python",
   "pygments_lexer": "ipython3",
   "version": "3.6.3"
  }
 },
 "nbformat": 4,
 "nbformat_minor": 2
}
