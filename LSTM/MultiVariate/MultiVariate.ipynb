{
 "cells": [
  {
   "cell_type": "code",
   "execution_count": 144,
   "metadata": {},
   "outputs": [],
   "source": [
    "from math import sqrt\n",
    "from numpy import concatenate\n",
    "import numpy as np\n",
    "from matplotlib import pyplot\n",
    "from pandas import read_csv\n",
    "from pandas import DataFrame\n",
    "from pandas import concat\n",
    "from sklearn.preprocessing import MinMaxScaler\n",
    "from sklearn.preprocessing import LabelEncoder\n",
    "from sklearn.metrics import mean_squared_error\n",
    "from keras.models import Sequential\n",
    "from keras.layers import Dense\n",
    "from keras.layers import LSTM\n"
   ]
  },
  {
   "cell_type": "code",
   "execution_count": 145,
   "metadata": {
    "collapsed": true
   },
   "outputs": [],
   "source": [
    "# convert series to supervised learning\n",
    "def series_to_supervised(data, n_in, n_out, dropnan=True):\n",
    "\tn_vars = 1 if type(data) is list else data.shape[1]\n",
    "\tdf = DataFrame(data)\n",
    "\tcols, names = list(), list()\n",
    "\t# input sequence (t-n, ... t-1)\n",
    "\tfor i in range(n_in, 0, -1):\n",
    "\t\tcols.append(df.shift(i))\n",
    "\t\tnames += [('var%d(t-%d)' % (j+1, i)) for j in range(n_vars)]\n",
    "\n",
    "    # forecast sequence (t, t+1, ... t+n)\n",
    "\tcols.append(df.shift(-n_out))\n",
    "\tif n_out == 0:\n",
    "\t\tnames += [('var%d(t)' % (j+1)) for j in range(n_vars)]\n",
    "\telse:\n",
    "\t\tnames += [('var%d(t+%d)' % (j+1, n_out)) for j in range(n_vars)]\n",
    "        \n",
    "\t# put it all together\n",
    "\tagg = concat(cols, axis=1)\n",
    "\tagg.columns = names\n",
    "    \n",
    "\t# drop rows with NaN values\n",
    "\tif dropnan:\n",
    "\t\tagg.dropna(inplace=True)\n",
    "\treturn agg"
   ]
  },
  {
   "cell_type": "code",
   "execution_count": 146,
   "metadata": {},
   "outputs": [],
   "source": [
    "#load daraset\n",
    "pathNail = r'C:\\Users\\nailt\\Desktop\\PowerIoT\\Datasets\\powerandweather.csv'\n",
    "pathEnes=r'C:\\Users\\enes_\\Desktop\\Datasets\\powerandweather.csv'\n",
    "dataset= read_csv(pathNail, header=0, index_col='time')\n",
    "\n"
   ]
  },
  {
   "cell_type": "code",
   "execution_count": null,
   "metadata": {},
   "outputs": [],
   "source": []
  },
  {
   "cell_type": "code",
   "execution_count": 147,
   "metadata": {
    "collapsed": true
   },
   "outputs": [],
   "source": [
    "dataset.replace([np.inf ,-np.inf],np.nan)\n",
    "dataset.fillna(method='ffill')\n",
    "values=dataset.values"
   ]
  },
  {
   "cell_type": "code",
   "execution_count": 148,
   "metadata": {
    "collapsed": true
   },
   "outputs": [],
   "source": [
    "# normalize features\n",
    "data=dataset\n",
    "data['cloudCover'] = (data['cloudCover']- data['cloudCover'].min())/(data['cloudCover'].max()-data['cloudCover'].min())\n",
    "data['dewPoint'] = (data['dewPoint']-data['dewPoint'].min())/(data['dewPoint'].max()-data['dewPoint'].min())\n",
    "data['humidity'] = (data['humidity']-data['humidity'].min())/(data['humidity'].max()-data['humidity'].min())\n",
    "data['temperature'] = (data['temperature']-data['temperature'].min())/(data['temperature'].max()-data['temperature'].min())\n",
    "data['pressure'] = (data['pressure']-data['pressure'].min())/(data['pressure'].max()-data['pressure'].min())\n",
    "data['windBearing'] = (data['windBearing']-data['windBearing'].min())/(data['windBearing'].max()-data['windBearing'].min())\n",
    "data['windSpeed'] = (data['windSpeed']-data['windSpeed'].min())/(data['windSpeed'].max()-data['windSpeed'].min())\n",
    "#data['power'] = (data['power']-data['power'].min())/(data['power'].max()-data['power'].min())\n",
    "data['power']=data['power']/50000\n",
    "\n",
    "scaled=data\n"
   ]
  },
  {
   "cell_type": "code",
   "execution_count": 149,
   "metadata": {
    "collapsed": true
   },
   "outputs": [],
   "source": [
    "# frame as supervised learning\n",
    "prediction_step=12\n",
    "windows_size=10\n",
    "reframed = series_to_supervised(scaled, windows_size, prediction_step)"
   ]
  },
  {
   "cell_type": "code",
   "execution_count": 150,
   "metadata": {
    "collapsed": true
   },
   "outputs": [],
   "source": [
    "#reframed.head(10)"
   ]
  },
  {
   "cell_type": "code",
   "execution_count": null,
   "metadata": {
    "collapsed": true
   },
   "outputs": [],
   "source": []
  },
  {
   "cell_type": "code",
   "execution_count": 151,
   "metadata": {
    "collapsed": true
   },
   "outputs": [],
   "source": [
    "# drop columns we don't want to predict\n",
    "reframed.drop(reframed.columns[[-2,-3,-4,-5,-6,-7,-8]], axis=1, inplace=True)"
   ]
  },
  {
   "cell_type": "code",
   "execution_count": 152,
   "metadata": {
    "collapsed": true
   },
   "outputs": [],
   "source": [
    "#reframed.head(20)"
   ]
  },
  {
   "cell_type": "code",
   "execution_count": 153,
   "metadata": {
    "collapsed": true
   },
   "outputs": [],
   "source": [
    "#reframed.columns\n"
   ]
  },
  {
   "cell_type": "code",
   "execution_count": 154,
   "metadata": {
    "collapsed": true
   },
   "outputs": [],
   "source": [
    "len_data=len(reframed);\n",
    "train_len= int(len_data*0.98);\n",
    "\n",
    "# split into train and test sets\n",
    "values = reframed.values\n",
    "train = values[:train_len, :]\n",
    "test = values[train_len:, :]\n",
    "\n",
    "# split into input and outputs\n",
    "train_X, train_y = train[:, :-1], train[:, -1]\n",
    "test_X, test_y = test[:, :-1], test[:, -1]\n",
    "\n",
    "# reshape input to be 3D [samples, timesteps, features]\n",
    "train_X = train_X.reshape((train_X.shape[0], 1, train_X.shape[1]))\n",
    "test_X = test_X.reshape((test_X.shape[0], 1, test_X.shape[1]))\n",
    "#print(train_X.shape, train_y.shape, test_X.shape, test_y.shape)\n",
    "\n",
    "\n"
   ]
  },
  {
   "cell_type": "code",
   "execution_count": 155,
   "metadata": {},
   "outputs": [
    {
     "name": "stdout",
     "output_type": "stream",
     "text": [
      "Train on 16928 samples, validate on 346 samples\n",
      "Epoch 1/50\n",
      " - 1s - loss: 0.0852 - acc: 0.4474 - val_loss: 0.0944 - val_acc: 0.3497\n",
      "Epoch 2/50\n",
      " - 0s - loss: 0.0648 - acc: 0.4474 - val_loss: 0.0847 - val_acc: 0.3497\n",
      "Epoch 3/50\n",
      " - 0s - loss: 0.0608 - acc: 0.4474 - val_loss: 0.0797 - val_acc: 0.3497\n",
      "Epoch 4/50\n",
      " - 0s - loss: 0.0588 - acc: 0.4474 - val_loss: 0.0795 - val_acc: 0.3497\n",
      "Epoch 5/50\n",
      " - 0s - loss: 0.0577 - acc: 0.4474 - val_loss: 0.0803 - val_acc: 0.3497\n",
      "Epoch 6/50\n",
      " - 0s - loss: 0.0566 - acc: 0.4474 - val_loss: 0.0789 - val_acc: 0.3497\n",
      "Epoch 7/50\n",
      " - 0s - loss: 0.0558 - acc: 0.4474 - val_loss: 0.0764 - val_acc: 0.3497\n",
      "Epoch 8/50\n",
      " - 0s - loss: 0.0549 - acc: 0.4474 - val_loss: 0.0779 - val_acc: 0.3497\n",
      "Epoch 9/50\n",
      " - 0s - loss: 0.0544 - acc: 0.4474 - val_loss: 0.0756 - val_acc: 0.3497\n",
      "Epoch 10/50\n",
      " - 0s - loss: 0.0534 - acc: 0.4474 - val_loss: 0.0750 - val_acc: 0.3497\n",
      "Epoch 11/50\n",
      " - 0s - loss: 0.0528 - acc: 0.4474 - val_loss: 0.0748 - val_acc: 0.3497\n",
      "Epoch 12/50\n",
      " - 0s - loss: 0.0529 - acc: 0.4474 - val_loss: 0.0764 - val_acc: 0.3497\n",
      "Epoch 13/50\n",
      " - 0s - loss: 0.0519 - acc: 0.4474 - val_loss: 0.0757 - val_acc: 0.3497\n",
      "Epoch 14/50\n",
      " - 0s - loss: 0.0523 - acc: 0.4474 - val_loss: 0.0749 - val_acc: 0.3497\n",
      "Epoch 15/50\n",
      " - 0s - loss: 0.0513 - acc: 0.4474 - val_loss: 0.0730 - val_acc: 0.3497\n",
      "Epoch 16/50\n",
      " - 0s - loss: 0.0511 - acc: 0.4474 - val_loss: 0.0732 - val_acc: 0.3497\n",
      "Epoch 17/50\n",
      " - 0s - loss: 0.0510 - acc: 0.4474 - val_loss: 0.0752 - val_acc: 0.3497\n",
      "Epoch 18/50\n",
      " - 0s - loss: 0.0508 - acc: 0.4474 - val_loss: 0.0751 - val_acc: 0.3497\n",
      "Epoch 19/50\n",
      " - 0s - loss: 0.0506 - acc: 0.4474 - val_loss: 0.0743 - val_acc: 0.3497\n",
      "Epoch 20/50\n",
      " - 0s - loss: 0.0502 - acc: 0.4474 - val_loss: 0.0734 - val_acc: 0.3497\n",
      "Epoch 21/50\n",
      " - 0s - loss: 0.0506 - acc: 0.4474 - val_loss: 0.0773 - val_acc: 0.3497\n",
      "Epoch 22/50\n",
      " - 0s - loss: 0.0503 - acc: 0.4474 - val_loss: 0.0754 - val_acc: 0.3497\n",
      "Epoch 23/50\n",
      " - 0s - loss: 0.0509 - acc: 0.4474 - val_loss: 0.0729 - val_acc: 0.3497\n",
      "Epoch 24/50\n",
      " - 0s - loss: 0.0502 - acc: 0.4474 - val_loss: 0.0733 - val_acc: 0.3497\n",
      "Epoch 25/50\n",
      " - 0s - loss: 0.0498 - acc: 0.4474 - val_loss: 0.0727 - val_acc: 0.3497\n",
      "Epoch 26/50\n",
      " - 0s - loss: 0.0493 - acc: 0.4474 - val_loss: 0.0731 - val_acc: 0.3497\n",
      "Epoch 27/50\n",
      " - 0s - loss: 0.0491 - acc: 0.4474 - val_loss: 0.0719 - val_acc: 0.3497\n",
      "Epoch 28/50\n",
      " - 0s - loss: 0.0492 - acc: 0.4474 - val_loss: 0.0738 - val_acc: 0.3497\n",
      "Epoch 29/50\n",
      " - 0s - loss: 0.0491 - acc: 0.4474 - val_loss: 0.0724 - val_acc: 0.3497\n",
      "Epoch 30/50\n",
      " - 0s - loss: 0.0490 - acc: 0.4474 - val_loss: 0.0728 - val_acc: 0.3497\n",
      "Epoch 31/50\n",
      " - 0s - loss: 0.0488 - acc: 0.4474 - val_loss: 0.0737 - val_acc: 0.3497\n",
      "Epoch 32/50\n",
      " - 0s - loss: 0.0485 - acc: 0.4474 - val_loss: 0.0733 - val_acc: 0.3497\n",
      "Epoch 33/50\n",
      " - 0s - loss: 0.0482 - acc: 0.4474 - val_loss: 0.0750 - val_acc: 0.3497\n",
      "Epoch 34/50\n",
      " - 0s - loss: 0.0485 - acc: 0.4474 - val_loss: 0.0739 - val_acc: 0.3497\n",
      "Epoch 35/50\n",
      " - 0s - loss: 0.0482 - acc: 0.4474 - val_loss: 0.0761 - val_acc: 0.3497\n",
      "Epoch 36/50\n",
      " - 0s - loss: 0.0482 - acc: 0.4474 - val_loss: 0.0738 - val_acc: 0.3497\n",
      "Epoch 37/50\n",
      " - 0s - loss: 0.0477 - acc: 0.4474 - val_loss: 0.0743 - val_acc: 0.3497\n",
      "Epoch 38/50\n",
      " - 0s - loss: 0.0478 - acc: 0.4474 - val_loss: 0.0720 - val_acc: 0.3497\n",
      "Epoch 39/50\n",
      " - 0s - loss: 0.0479 - acc: 0.4474 - val_loss: 0.0722 - val_acc: 0.3497\n",
      "Epoch 40/50\n",
      " - 0s - loss: 0.0472 - acc: 0.4474 - val_loss: 0.0734 - val_acc: 0.3497\n",
      "Epoch 41/50\n",
      " - 0s - loss: 0.0478 - acc: 0.4474 - val_loss: 0.0721 - val_acc: 0.3497\n",
      "Epoch 42/50\n",
      " - 0s - loss: 0.0474 - acc: 0.4474 - val_loss: 0.0754 - val_acc: 0.3497\n",
      "Epoch 43/50\n",
      " - 0s - loss: 0.0473 - acc: 0.4474 - val_loss: 0.0730 - val_acc: 0.3497\n",
      "Epoch 44/50\n",
      " - 0s - loss: 0.0472 - acc: 0.4474 - val_loss: 0.0713 - val_acc: 0.3497\n",
      "Epoch 45/50\n",
      " - 0s - loss: 0.0470 - acc: 0.4474 - val_loss: 0.0732 - val_acc: 0.3497\n",
      "Epoch 46/50\n",
      " - 0s - loss: 0.0468 - acc: 0.4474 - val_loss: 0.0743 - val_acc: 0.3497\n",
      "Epoch 47/50\n",
      " - 0s - loss: 0.0467 - acc: 0.4474 - val_loss: 0.0727 - val_acc: 0.3497\n",
      "Epoch 48/50\n",
      " - 0s - loss: 0.0465 - acc: 0.4474 - val_loss: 0.0742 - val_acc: 0.3497\n",
      "Epoch 49/50\n",
      " - 0s - loss: 0.0469 - acc: 0.4474 - val_loss: 0.0739 - val_acc: 0.3497\n",
      "Epoch 50/50\n",
      " - 0s - loss: 0.0466 - acc: 0.4474 - val_loss: 0.0731 - val_acc: 0.3497\n"
     ]
    },
    {
     "data": {
      "image/png": "[encoded data removed]",
      "text/plain": [
       "<Figure size 432x288 with 1 Axes>"
      ]
     },
     "metadata": {},
     "output_type": "display_data"
    }
   ],
   "source": [
    "# design network\n",
    "model = Sequential()\n",
    "model.add(LSTM(20, input_shape=(train_X.shape[1], train_X.shape[2])))\n",
    "model.add(Dense(1))\n",
    "model.compile(loss='mae', metrics=['accuracy'],optimizer='rmsprop')\n",
    "\n",
    "# fit network\n",
    "history = model.fit(train_X, train_y, epochs=50, batch_size=72, validation_data=(test_X, test_y), verbose=2, shuffle=True)\n",
    "\n",
    "# plot history\n",
    "pyplot.plot(history.history['loss'], label='train')\n",
    "pyplot.plot(history.history['val_loss'], label='test')\n",
    "pyplot.legend()\n",
    "pyplot.show()\n"
   ]
  },
  {
   "cell_type": "code",
   "execution_count": 156,
   "metadata": {
    "collapsed": true
   },
   "outputs": [],
   "source": [
    "#yhat = model.predict(test_X)"
   ]
  },
  {
   "cell_type": "code",
   "execution_count": 157,
   "metadata": {
    "collapsed": true
   },
   "outputs": [],
   "source": [
    "#yhat.shape"
   ]
  },
  {
   "cell_type": "code",
   "execution_count": 158,
   "metadata": {},
   "outputs": [
    {
     "name": "stdout",
     "output_type": "stream",
     "text": [
      "Test RMSE: 0.146\n"
     ]
    }
   ],
   "source": [
    "# make a prediction\n",
    "yhat = model.predict(test_X)\n",
    "test_X = test_X.reshape((test_X.shape[0], test_X.shape[2]))\n",
    "\n",
    "test_y = test_y.reshape((len(test_y), 1))\n",
    "\n",
    "# calculate RMSE\n",
    "rmse = sqrt(mean_squared_error(yhat,test_y))\n",
    "print('Test RMSE: %.3f' % rmse)"
   ]
  },
  {
   "cell_type": "code",
   "execution_count": 159,
   "metadata": {
    "collapsed": true
   },
   "outputs": [],
   "source": [
    "import time\n",
    "predictSTR= 'prediction for  '+ str(prediction_step*5) +' minute'\n"
   ]
  },
  {
   "cell_type": "code",
   "execution_count": 160,
   "metadata": {
    "collapsed": true
   },
   "outputs": [],
   "source": [
    "#import pandas as pd\n",
    "#asa = list(test_y*50000)\n",
    "#df=pd.DataFrame(asa)\n",
    "#df.to_csv('test_y.csv',index = False)"
   ]
  },
  {
   "cell_type": "code",
   "execution_count": 161,
   "metadata": {},
   "outputs": [
    {
     "data": {
      "image/png": "[encoded data removed]",
      "text/plain": [
       "<Figure size 432x288 with 1 Axes>"
      ]
     },
     "metadata": {},
     "output_type": "display_data"
    },
    {
     "name": "stdout",
     "output_type": "stream",
     "text": [
      "Test RMSE: 0.146\n"
     ]
    }
   ],
   "source": [
    "pyplot.plot(yhat*50000, label= predictSTR)\n",
    "pyplot.plot(test_y*50000, label= 'Real Value')\n",
    "pyplot.legend()\n",
    "pyplot.xlabel('Datapoints with '+str(prediction_step*5)+ ' resolution')\n",
    "pyplot.ylabel('Power(Watts)')\n",
    "pyplot.title('(July 2018) Prediction and Real Power Supplied by Solar Panel')\n",
    "pyplot.grid(True)\n",
    "pyplot.show()\n",
    "print('Test RMSE: %.3f' % rmse)\n",
    "\n"
   ]
  },
  {
   "cell_type": "code",
   "execution_count": 162,
   "metadata": {
    "collapsed": true
   },
   "outputs": [],
   "source": [
    "#import pandas as pd\n",
    "#df= pd.DataFrame(yhat)\n",
    "#df.to_csv(\"yhat.csv\",index=False)\n",
    "#df= pd.DataFrame(test_y)\n",
    "#df.to_csv(\"test.csv\",index=False)\n"
   ]
  },
  {
   "cell_type": "code",
   "execution_count": 163,
   "metadata": {
    "collapsed": true
   },
   "outputs": [],
   "source": [
    "#df= pd.DataFrame(test_X[:,0])\n",
    "#df.to_csv('cloudcover.csv', index=False)"
   ]
  },
  {
   "cell_type": "code",
   "execution_count": 164,
   "metadata": {},
   "outputs": [
    {
     "data": {
      "text/plain": [
       "(346, 80)"
      ]
     },
     "execution_count": 164,
     "metadata": {},
     "output_type": "execute_result"
    }
   ],
   "source": [
    "test_X.shape"
   ]
  },
  {
   "cell_type": "code",
   "execution_count": 165,
   "metadata": {},
   "outputs": [
    {
     "data": {
      "text/plain": [
       "346"
      ]
     },
     "execution_count": 165,
     "metadata": {},
     "output_type": "execute_result"
    }
   ],
   "source": [
    "len(yhat)"
   ]
  },
  {
   "cell_type": "code",
   "execution_count": 166,
   "metadata": {},
   "outputs": [
    {
     "data": {
      "text/plain": [
       "346"
      ]
     },
     "execution_count": 166,
     "metadata": {},
     "output_type": "execute_result"
    }
   ],
   "source": [
    "len(test_y)"
   ]
  },
  {
   "cell_type": "code",
   "execution_count": null,
   "metadata": {
    "collapsed": true
   },
   "outputs": [],
   "source": []
  }
 ],
 "metadata": {
  "kernelspec": {
   "display_name": "Python 3",
   "language": "python",
   "name": "python3"
  },
  "language_info": {
   "codemirror_mode": {
    "name": "ipython",
    "version": 3
   },
   "file_extension": ".py",
   "mimetype": "text/x-python",
   "name": "python",
   "nbconvert_exporter": "python",
   "pygments_lexer": "ipython3",
   "version": "3.6.3"
  }
 },
 "nbformat": 4,
 "nbformat_minor": 2
}
